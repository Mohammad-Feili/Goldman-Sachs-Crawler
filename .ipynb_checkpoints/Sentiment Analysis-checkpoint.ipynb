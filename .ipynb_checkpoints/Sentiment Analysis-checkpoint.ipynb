{
 "cells": [
  {
   "cell_type": "code",
   "execution_count": 38,
   "metadata": {},
   "outputs": [
    {
     "data": {
      "text/html": [
       "<div>\n",
       "<style scoped>\n",
       "    .dataframe tbody tr th:only-of-type {\n",
       "        vertical-align: middle;\n",
       "    }\n",
       "\n",
       "    .dataframe tbody tr th {\n",
       "        vertical-align: top;\n",
       "    }\n",
       "\n",
       "    .dataframe thead th {\n",
       "        text-align: right;\n",
       "    }\n",
       "</style>\n",
       "<table border=\"1\" class=\"dataframe\">\n",
       "  <thead>\n",
       "    <tr style=\"text-align: right;\">\n",
       "      <th></th>\n",
       "      <th>content</th>\n",
       "    </tr>\n",
       "  </thead>\n",
       "  <tbody>\n",
       "    <tr>\n",
       "      <th>0</th>\n",
       "      <td>-- Hey buddy, can you spare $600 for a Google ...</td>\n",
       "    </tr>\n",
       "    <tr>\n",
       "      <th>1</th>\n",
       "      <td>-- EU to urge China to open economy further,--...</td>\n",
       "    </tr>\n",
       "    <tr>\n",
       "      <th>2</th>\n",
       "      <td>-- AOL CEO says sales may shrink for two years...</td>\n",
       "    </tr>\n",
       "    <tr>\n",
       "      <th>3</th>\n",
       "      <td>-- UPDATE 2-Wal-Mart sees improvment in health...</td>\n",
       "    </tr>\n",
       "    <tr>\n",
       "      <th>4</th>\n",
       "      <td>-- WRAPUP 3-US November trade gap narrowest si...</td>\n",
       "    </tr>\n",
       "  </tbody>\n",
       "</table>\n",
       "</div>"
      ],
      "text/plain": [
       "                                             content\n",
       "0  -- Hey buddy, can you spare $600 for a Google ...\n",
       "1  -- EU to urge China to open economy further,--...\n",
       "2  -- AOL CEO says sales may shrink for two years...\n",
       "3  -- UPDATE 2-Wal-Mart sees improvment in health...\n",
       "4  -- WRAPUP 3-US November trade gap narrowest si..."
      ]
     },
     "execution_count": 38,
     "metadata": {},
     "output_type": "execute_result"
    }
   ],
   "source": [
    "import pandas as pd \n",
    "\n",
    "news_content =  pd.read_csv('items.csv', index_col=False)\n",
    "news_content.head()"
   ]
  },
  {
   "cell_type": "code",
   "execution_count": 102,
   "metadata": {},
   "outputs": [],
   "source": [
    "def news_prettify(contents):\n",
    "    \n",
    "    News_Dataset_dict = dict()\n",
    "    News_Dataset_dict['title']=list()\n",
    "    News_Dataset_dict['body']=list()\n",
    "    News_Dataset_dict['detail']=list()\n",
    "    \n",
    "    for content in contents:\n",
    "        news = content.split('\\n')\n",
    "        if len(news)==4:\n",
    "            News_Dataset_dict['title'].append(news[2])\n",
    "            News_Dataset_dict['body'].append(news[3])\n",
    "            News_Dataset_dict['detail'].append(news[0])\n",
    "    \n",
    "    News_Dataset = pd.DataFrame(data=News_Dataset_dict)\n",
    "    return News_Dataset"
   ]
  },
  {
   "cell_type": "code",
   "execution_count": 103,
   "metadata": {},
   "outputs": [],
   "source": [
    "data=news_prettify(news_content['content'])"
   ]
  },
  {
   "cell_type": "code",
   "execution_count": 107,
   "metadata": {},
   "outputs": [
    {
     "name": "stdout",
     "output_type": "stream",
     "text": [
      "Dataset Shape: \n",
      "(3181, 3)\n",
      "                                               title  \\\n",
      "0  Dataset Head Rows: \\n, SAN FRANCISCO/NEW YORK ...   \n",
      "1  Dataset Head Rows: \\n, BRUSSELS  (Reuters) - T...   \n",
      "2  Dataset Head Rows: \\n, FRANKFURT  (Reuters) - ...   \n",
      "3  Dataset Head Rows: \\n, NEW YORK  (Reuters) - W...   \n",
      "4  Dataset Head Rows: \\n, NEW YORK  (Reuters) - I...   \n",
      "\n",
      "                                                body  \\\n",
      "0  Dataset Head Rows: \\n,  Brokers were respondin...   \n",
      "1  Dataset Head Rows: \\n,  The EU's executive Com...   \n",
      "2  Dataset Head Rows: \\n,  \"Maybe another two yea...   \n",
      "3  Dataset Head Rows: \\n, Although the company ga...   \n",
      "4  Dataset Head Rows: \\n, Contrary to pessimism o...   \n",
      "\n",
      "                                              detail  \n",
      "0  Dataset Head Rows: \\n-- Hey buddy, can you spa...  \n",
      "1  Dataset Head Rows: \\n-- EU to urge China to op...  \n",
      "2  Dataset Head Rows: \\n-- AOL CEO says sales may...  \n",
      "3  Dataset Head Rows: \\n-- Williams-Sonoma affirm...  \n",
      "4  Dataset Head Rows: \\n-- Tyco split could be lu...  \n"
     ]
    }
   ],
   "source": [
    "print(\"Dataset Shape: \\n\" + str(data.shape))\n",
    "print(\"Dataset Head Rows: \\n\" + data.head())"
   ]
  }
 ],
 "metadata": {
  "kernelspec": {
   "display_name": "Python 3",
   "language": "python",
   "name": "python3"
  },
  "language_info": {
   "codemirror_mode": {
    "name": "ipython",
    "version": 3
   },
   "file_extension": ".py",
   "mimetype": "text/x-python",
   "name": "python",
   "nbconvert_exporter": "python",
   "pygments_lexer": "ipython3",
   "version": "3.6.5"
  }
 },
 "nbformat": 4,
 "nbformat_minor": 2
}

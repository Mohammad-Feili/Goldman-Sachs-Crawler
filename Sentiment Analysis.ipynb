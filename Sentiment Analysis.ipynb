{
 "cells": [
  {
   "cell_type": "markdown",
   "metadata": {},
   "source": [
    "# This is for dataset that crawled from Github"
   ]
  },
  {
   "cell_type": "code",
   "execution_count": 1,
   "metadata": {},
   "outputs": [
    {
     "data": {
      "text/html": [
       "<div>\n",
       "<style scoped>\n",
       "    .dataframe tbody tr th:only-of-type {\n",
       "        vertical-align: middle;\n",
       "    }\n",
       "\n",
       "    .dataframe tbody tr th {\n",
       "        vertical-align: top;\n",
       "    }\n",
       "\n",
       "    .dataframe thead th {\n",
       "        text-align: right;\n",
       "    }\n",
       "</style>\n",
       "<table border=\"1\" class=\"dataframe\">\n",
       "  <thead>\n",
       "    <tr style=\"text-align: right;\">\n",
       "      <th></th>\n",
       "      <th>content</th>\n",
       "    </tr>\n",
       "  </thead>\n",
       "  <tbody>\n",
       "    <tr>\n",
       "      <th>0</th>\n",
       "      <td>-- Hey buddy, can you spare $600 for a Google ...</td>\n",
       "    </tr>\n",
       "    <tr>\n",
       "      <th>1</th>\n",
       "      <td>-- Walgreen November same-store sales up,-- ,-...</td>\n",
       "    </tr>\n",
       "    <tr>\n",
       "      <th>2</th>\n",
       "      <td>-- Pfizer shares at risk following heart-drug ...</td>\n",
       "    </tr>\n",
       "    <tr>\n",
       "      <th>3</th>\n",
       "      <td>-- OPEC divided on need for deeper output curb...</td>\n",
       "    </tr>\n",
       "    <tr>\n",
       "      <th>4</th>\n",
       "      <td>-- Warner Music revenue down, sees weaker 1st-...</td>\n",
       "    </tr>\n",
       "  </tbody>\n",
       "</table>\n",
       "</div>"
      ],
      "text/plain": [
       "                                             content\n",
       "0  -- Hey buddy, can you spare $600 for a Google ...\n",
       "1  -- Walgreen November same-store sales up,-- ,-...\n",
       "2  -- Pfizer shares at risk following heart-drug ...\n",
       "3  -- OPEC divided on need for deeper output curb...\n",
       "4  -- Warner Music revenue down, sees weaker 1st-..."
      ]
     },
     "execution_count": 1,
     "metadata": {},
     "output_type": "execute_result"
    }
   ],
   "source": [
    "import pandas as pd \n",
    "\n",
    "news_content =  pd.read_csv('all_news.csv', index_col=False)\n",
    "news_content.head()"
   ]
  },
  {
   "cell_type": "code",
   "execution_count": 2,
   "metadata": {},
   "outputs": [],
   "source": [
    "def news_prettify(contents):\n",
    "    \n",
    "    News_Dataset_dict = dict()\n",
    "    News_Dataset_dict['title']=list()\n",
    "    News_Dataset_dict['body']=list()\n",
    "    News_Dataset_dict['detail']=list()\n",
    "    \n",
    "    for content in contents:\n",
    "        news = content.split('\\n')\n",
    "        if len(news)==4:\n",
    "            News_Dataset_dict['title'].append(news[2])\n",
    "            News_Dataset_dict['body'].append(news[3])\n",
    "            News_Dataset_dict['detail'].append(news[0])\n",
    "    \n",
    "    News_Dataset = pd.DataFrame(data=News_Dataset_dict)\n",
    "    return News_Dataset"
   ]
  },
  {
   "cell_type": "code",
   "execution_count": 3,
   "metadata": {},
   "outputs": [],
   "source": [
    "data=news_prettify(news_content['content'])"
   ]
  },
  {
   "cell_type": "code",
   "execution_count": 4,
   "metadata": {},
   "outputs": [
    {
     "name": "stdout",
     "output_type": "stream",
     "text": [
      "Dataset Shape: \n",
      "(4831, 3)\n",
      "                                               title  \\\n",
      "0  Dataset Head Rows: \\n, SAN FRANCISCO/NEW YORK ...   \n",
      "1  Dataset Head Rows: \\n, CHICAGO  (Reuters) - Wa...   \n",
      "2  Dataset Head Rows: \\n, NEW YORK  (Reuters) - W...   \n",
      "3  Dataset Head Rows: \\n, CAIRO  (Reuters) - OPEC...   \n",
      "4  Dataset Head Rows: \\n, NEW YORK  (Reuters) - W...   \n",
      "\n",
      "                                                body  \\\n",
      "0  Dataset Head Rows: \\n,  Brokers were respondin...   \n",
      "1  Dataset Head Rows: \\n, Analysts, on average, h...   \n",
      "2  Dataset Head Rows: \\n, On Saturday Pfizer ( PF...   \n",
      "3  Dataset Head Rows: \\n, Saudi Oil Minister Ali ...   \n",
      "4  Dataset Head Rows: \\n, Warner Music's first qu...   \n",
      "\n",
      "                                              detail  \n",
      "0  Dataset Head Rows: \\n-- Hey buddy, can you spa...  \n",
      "1  Dataset Head Rows: \\n-- Walgreen November same...  \n",
      "2  Dataset Head Rows: \\n-- Pfizer shares at risk ...  \n",
      "3  Dataset Head Rows: \\n-- OPEC divided on need f...  \n",
      "4  Dataset Head Rows: \\n-- Warner Music revenue d...  \n"
     ]
    }
   ],
   "source": [
    "print(\"Dataset Shape: \\n\" + str(data.shape))\n",
    "print(\"Dataset Head Rows: \\n\" + data.head())"
   ]
  },
  {
   "cell_type": "code",
   "execution_count": 8,
   "metadata": {},
   "outputs": [
    {
     "name": "stdout",
     "output_type": "stream",
     "text": [
      "[nltk_data] Downloading package vader_lexicon to C:\\Users\\mohammad\n",
      "[nltk_data]     feili\\AppData\\Roaming\\nltk_data...\n"
     ]
    },
    {
     "data": {
      "text/plain": [
       "True"
      ]
     },
     "execution_count": 8,
     "metadata": {},
     "output_type": "execute_result"
    }
   ],
   "source": [
    "# import nltk \n",
    "# nltk.download('vader_lexicon')"
   ]
  },
  {
   "cell_type": "code",
   "execution_count": 6,
   "metadata": {},
   "outputs": [
    {
     "name": "stdout",
     "output_type": "stream",
     "text": [
      "{'neg': 0.047, 'neu': 0.953, 'pos': 0.0, 'compound': -0.2247}\n"
     ]
    }
   ],
   "source": [
    "import nltk\n",
    "from nltk.sentiment.vader import SentimentIntensityAnalyzer\n",
    "sia = SentimentIntensityAnalyzer()\n",
    "\n",
    "news = data['title'][0]\n",
    "print(sia.polarity_scores(news))"
   ]
  },
  {
   "cell_type": "code",
   "execution_count": 7,
   "metadata": {},
   "outputs": [
    {
     "name": "stdout",
     "output_type": "stream",
     "text": [
      "{'neg': 0.029, 'neu': 0.892, 'pos': 0.08, 'compound': 0.9609}\n"
     ]
    }
   ],
   "source": [
    "news = data['body'][0]\n",
    "print(sia.polarity_scores(news))"
   ]
  },
  {
   "cell_type": "code",
   "execution_count": 8,
   "metadata": {},
   "outputs": [
    {
     "name": "stdout",
     "output_type": "stream",
     "text": [
      "{'neg': 0.0, 'neu': 1.0, 'pos': 0.0, 'compound': 0.0}\n"
     ]
    }
   ],
   "source": [
    "news = data['detail'][0]\n",
    "print(sia.polarity_scores(news))"
   ]
  },
  {
   "cell_type": "code",
   "execution_count": 13,
   "metadata": {},
   "outputs": [],
   "source": [
    "def label(data):\n",
    "    \n",
    "    data_class = dict()\n",
    "    data_class['title_class'] = list()\n",
    "    data_class['body_class']  = list()\n",
    "    \n",
    "    for i in range(data.shape[0]):\n",
    "        data_class['title_class'].append(sia.polarity_scores(data['title'][i])['compound'])\n",
    "        data_class['body_class'].append(sia.polarity_scores(data['body'][i])['compound'])\n",
    "        \n",
    "    label_class = pd.DataFrame(data=data_class)\n",
    "    return label_class"
   ]
  },
  {
   "cell_type": "code",
   "execution_count": 14,
   "metadata": {},
   "outputs": [],
   "source": [
    "data_label = label(data)"
   ]
  },
  {
   "cell_type": "code",
   "execution_count": 16,
   "metadata": {},
   "outputs": [
    {
     "data": {
      "text/html": [
       "<div>\n",
       "<style scoped>\n",
       "    .dataframe tbody tr th:only-of-type {\n",
       "        vertical-align: middle;\n",
       "    }\n",
       "\n",
       "    .dataframe tbody tr th {\n",
       "        vertical-align: top;\n",
       "    }\n",
       "\n",
       "    .dataframe thead th {\n",
       "        text-align: right;\n",
       "    }\n",
       "</style>\n",
       "<table border=\"1\" class=\"dataframe\">\n",
       "  <thead>\n",
       "    <tr style=\"text-align: right;\">\n",
       "      <th></th>\n",
       "      <th>title_class</th>\n",
       "      <th>body_class</th>\n",
       "    </tr>\n",
       "  </thead>\n",
       "  <tbody>\n",
       "    <tr>\n",
       "      <th>0</th>\n",
       "      <td>-0.2247</td>\n",
       "      <td>0.9609</td>\n",
       "    </tr>\n",
       "    <tr>\n",
       "      <th>1</th>\n",
       "      <td>0.0000</td>\n",
       "      <td>0.0000</td>\n",
       "    </tr>\n",
       "    <tr>\n",
       "      <th>2</th>\n",
       "      <td>-0.0018</td>\n",
       "      <td>0.9955</td>\n",
       "    </tr>\n",
       "    <tr>\n",
       "      <th>3</th>\n",
       "      <td>-0.7845</td>\n",
       "      <td>-0.9769</td>\n",
       "    </tr>\n",
       "    <tr>\n",
       "      <th>4</th>\n",
       "      <td>-0.3400</td>\n",
       "      <td>0.9845</td>\n",
       "    </tr>\n",
       "  </tbody>\n",
       "</table>\n",
       "</div>"
      ],
      "text/plain": [
       "   title_class  body_class\n",
       "0      -0.2247      0.9609\n",
       "1       0.0000      0.0000\n",
       "2      -0.0018      0.9955\n",
       "3      -0.7845     -0.9769\n",
       "4      -0.3400      0.9845"
      ]
     },
     "execution_count": 16,
     "metadata": {},
     "output_type": "execute_result"
    }
   ],
   "source": [
    "data_label.head()"
   ]
  },
  {
   "cell_type": "code",
   "execution_count": 20,
   "metadata": {},
   "outputs": [],
   "source": [
    "data_label.to_csv('data_label.csv', index=False)"
   ]
  },
  {
   "cell_type": "markdown",
   "metadata": {},
   "source": [
    "# This is for dataset that crawled from NewYork Times website for ten years"
   ]
  },
  {
   "cell_type": "code",
   "execution_count": 21,
   "metadata": {},
   "outputs": [
    {
     "data": {
      "text/html": [
       "<div>\n",
       "<style scoped>\n",
       "    .dataframe tbody tr th:only-of-type {\n",
       "        vertical-align: middle;\n",
       "    }\n",
       "\n",
       "    .dataframe tbody tr th {\n",
       "        vertical-align: top;\n",
       "    }\n",
       "\n",
       "    .dataframe thead th {\n",
       "        text-align: right;\n",
       "    }\n",
       "</style>\n",
       "<table border=\"1\" class=\"dataframe\">\n",
       "  <thead>\n",
       "    <tr style=\"text-align: right;\">\n",
       "      <th></th>\n",
       "      <th>title</th>\n",
       "      <th>body</th>\n",
       "    </tr>\n",
       "  </thead>\n",
       "  <tbody>\n",
       "    <tr>\n",
       "      <th>0</th>\n",
       "      <td>Malaysia Files Criminal Charges Against Goldma...</td>\n",
       "      <td>In the wake of a scandal that brought down the...</td>\n",
       "    </tr>\n",
       "    <tr>\n",
       "      <th>1</th>\n",
       "      <td>How Much Could the 1MDB Scandal Cost Goldman S...</td>\n",
       "      <td>A huge fraud at a Malaysian investment fund ha...</td>\n",
       "    </tr>\n",
       "    <tr>\n",
       "      <th>2</th>\n",
       "      <td>Goldman’s Malaysian Scandal Revives the ‘Too B...</td>\n",
       "      <td>There are risks when filing criminal charges a...</td>\n",
       "    </tr>\n",
       "    <tr>\n",
       "      <th>3</th>\n",
       "      <td>1MDB Case in Malaysia Deepens Goldman’s Crisis</td>\n",
       "      <td>The Malaysian government filed charges against...</td>\n",
       "    </tr>\n",
       "    <tr>\n",
       "      <th>4</th>\n",
       "      <td>After Early Victories, N.J. Governor Is Underm...</td>\n",
       "      <td>Swept into office as a progressive reformer, G...</td>\n",
       "    </tr>\n",
       "  </tbody>\n",
       "</table>\n",
       "</div>"
      ],
      "text/plain": [
       "                                               title  \\\n",
       "0  Malaysia Files Criminal Charges Against Goldma...   \n",
       "1  How Much Could the 1MDB Scandal Cost Goldman S...   \n",
       "2  Goldman’s Malaysian Scandal Revives the ‘Too B...   \n",
       "3     1MDB Case in Malaysia Deepens Goldman’s Crisis   \n",
       "4  After Early Victories, N.J. Governor Is Underm...   \n",
       "\n",
       "                                                body  \n",
       "0  In the wake of a scandal that brought down the...  \n",
       "1  A huge fraud at a Malaysian investment fund ha...  \n",
       "2  There are risks when filing criminal charges a...  \n",
       "3  The Malaysian government filed charges against...  \n",
       "4  Swept into office as a progressive reformer, G...  "
      ]
     },
     "execution_count": 21,
     "metadata": {},
     "output_type": "execute_result"
    }
   ],
   "source": [
    "ny_data = pd.read_csv('ready_news.csv', index_col= False)\n",
    "ny_data.head()"
   ]
  },
  {
   "cell_type": "code",
   "execution_count": 23,
   "metadata": {},
   "outputs": [
    {
     "data": {
      "text/html": [
       "<div>\n",
       "<style scoped>\n",
       "    .dataframe tbody tr th:only-of-type {\n",
       "        vertical-align: middle;\n",
       "    }\n",
       "\n",
       "    .dataframe tbody tr th {\n",
       "        vertical-align: top;\n",
       "    }\n",
       "\n",
       "    .dataframe thead th {\n",
       "        text-align: right;\n",
       "    }\n",
       "</style>\n",
       "<table border=\"1\" class=\"dataframe\">\n",
       "  <thead>\n",
       "    <tr style=\"text-align: right;\">\n",
       "      <th></th>\n",
       "      <th>title_class</th>\n",
       "      <th>body_class</th>\n",
       "    </tr>\n",
       "  </thead>\n",
       "  <tbody>\n",
       "    <tr>\n",
       "      <th>0</th>\n",
       "      <td>-0.8126</td>\n",
       "      <td>-0.4404</td>\n",
       "    </tr>\n",
       "    <tr>\n",
       "      <th>1</th>\n",
       "      <td>-0.4404</td>\n",
       "      <td>-0.3612</td>\n",
       "    </tr>\n",
       "    <tr>\n",
       "      <th>2</th>\n",
       "      <td>-0.0772</td>\n",
       "      <td>-0.5106</td>\n",
       "    </tr>\n",
       "    <tr>\n",
       "      <th>3</th>\n",
       "      <td>-0.6249</td>\n",
       "      <td>-0.4767</td>\n",
       "    </tr>\n",
       "    <tr>\n",
       "      <th>4</th>\n",
       "      <td>0.0516</td>\n",
       "      <td>-0.3818</td>\n",
       "    </tr>\n",
       "  </tbody>\n",
       "</table>\n",
       "</div>"
      ],
      "text/plain": [
       "   title_class  body_class\n",
       "0      -0.8126     -0.4404\n",
       "1      -0.4404     -0.3612\n",
       "2      -0.0772     -0.5106\n",
       "3      -0.6249     -0.4767\n",
       "4       0.0516     -0.3818"
      ]
     },
     "execution_count": 23,
     "metadata": {},
     "output_type": "execute_result"
    }
   ],
   "source": [
    "# the label function introduced in proceeding cells\n",
    "ny_label = label(ny_data)\n",
    "ny_label.to_csv('ny_label.csv', index=False)\n",
    "ny_label.head()"
   ]
  },
  {
   "cell_type": "code",
   "execution_count": null,
   "metadata": {},
   "outputs": [],
   "source": []
  }
 ],
 "metadata": {
  "kernelspec": {
   "display_name": "Python 3",
   "language": "python",
   "name": "python3"
  },
  "language_info": {
   "codemirror_mode": {
    "name": "ipython",
    "version": 3
   },
   "file_extension": ".py",
   "mimetype": "text/x-python",
   "name": "python",
   "nbconvert_exporter": "python",
   "pygments_lexer": "ipython3",
   "version": "3.6.5"
  }
 },
 "nbformat": 4,
 "nbformat_minor": 2
}
